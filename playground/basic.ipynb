{
 "cells": [
  {
   "cell_type": "code",
   "execution_count": null,
   "metadata": {},
   "outputs": [],
   "source": [
    "%load_ext autoreload\n",
    "%autoreload 2\n",
    "\n",
    "import numpy as np\n",
    "from umbra import MeshViewer\n",
    "\n",
    "viewer = MeshViewer()"
   ]
  },
  {
   "cell_type": "code",
   "execution_count": null,
   "metadata": {},
   "outputs": [],
   "source": [
    "viewer.clear()\n",
    "v = np.array([[-1, 0, 0], [1, 0, 0], [0, 1, 0]], dtype=np.float32)\n",
    "f = np.array([[0, 1, 2]], dtype=np.int32)\n",
    "viewer.set_mesh(v, f)\n",
    "viewer.set_mesh(v+0.1, f)\n",
    "viewer.set_material(material='wireframe', index=1)\n",
    "\n",
    "p = 2*np.random.rand(20, 3)-1\n",
    "c = np.random.rand(20, 3)\n",
    "viewer.set_points(p, c=c, object_name=\"points\")"
   ]
  },
  {
   "cell_type": "code",
   "execution_count": null,
   "metadata": {},
   "outputs": [],
   "source": [
    "viewer.clear()\n",
    "s = 2*np.random.rand(16, 3)-1\n",
    "e = 2*np.random.rand(16, 3)-1\n",
    "c = np.random.rand(s.shape[0], 3)\n",
    "viewer.set_lines(s, e, c=c, object_name=\"lines\")\n",
    "viewer.set_points(s, c=c, object_name=\"lines_start\")\n",
    "viewer.set_points(e, c=c, object_name=\"lines_end\")"
   ]
  }
 ],
 "metadata": {
  "kernelspec": {
   "display_name": "cg",
   "language": "python",
   "name": "python3"
  },
  "language_info": {
   "codemirror_mode": {
    "name": "ipython",
    "version": 3
   },
   "file_extension": ".py",
   "mimetype": "text/x-python",
   "name": "python",
   "nbconvert_exporter": "python",
   "pygments_lexer": "ipython3",
   "version": "3.8.10"
  },
  "orig_nbformat": 4
 },
 "nbformat": 4,
 "nbformat_minor": 2
}
