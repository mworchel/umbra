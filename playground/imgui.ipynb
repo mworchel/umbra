{
 "cells": [
  {
   "cell_type": "code",
   "execution_count": null,
   "metadata": {},
   "outputs": [],
   "source": [
    "%load_ext autoreload\n",
    "%autoreload 2\n",
    "\n",
    "import imgui\n",
    "import numpy as np\n",
    "import trimesh\n",
    "\n",
    "from umbra import MeshViewer\n",
    "\n",
    "viewer = MeshViewer()"
   ]
  },
  {
   "cell_type": "code",
   "execution_count": null,
   "metadata": {},
   "outputs": [],
   "source": [
    "mesh = trimesh.load_mesh(\"spot.obj\")\n",
    "v, f = np.array(mesh.vertices), np.array(mesh.faces)\n",
    "n = np.array(mesh.vertex_normals)"
   ]
  },
  {
   "cell_type": "code",
   "execution_count": null,
   "metadata": {},
   "outputs": [],
   "source": [
    "viewer.set_mesh(v, f, n)\n",
    "\n",
    "class Gui:\n",
    "    use_fullscreen_shader = False\n",
    "    translation_x = 0.0 \n",
    "\n",
    "    def callback(self, viewer):\n",
    "        imgui.begin(\"General\", True)\n",
    "        \n",
    "        use_fullscreen_shader_changed, self.use_fullscreen_shader = imgui.checkbox(label=\"Use Fullscreen Shader\", state=self.use_fullscreen_shader)\n",
    "        if use_fullscreen_shader_changed:\n",
    "            if self.use_fullscreen_shader:\n",
    "                viewer.set_material(\"normal\")\n",
    "            else:\n",
    "                viewer.set_material(\"face\")\n",
    "\n",
    "        changed, self.translation_x = imgui.slider_float(label=\"Translation X\", value=self.translation_x, min_value=-2.0, max_value=2.0)\n",
    "        if changed:\n",
    "            v_translated = v.copy()\n",
    "            v_translated[:, 0] = v[:, 0] + self.translation_x\n",
    "            viewer.set_mesh(v_translated, f, n)\n",
    "\n",
    "        imgui.end()\n",
    "gui = Gui()\n",
    "\n",
    "viewer.user_gui_callback = lambda context: gui.callback(context)"
   ]
  },
  {
   "cell_type": "code",
   "execution_count": null,
   "metadata": {},
   "outputs": [],
   "source": [
    "viewer.set_material('wireframe', index=1)"
   ]
  },
  {
   "cell_type": "code",
   "execution_count": null,
   "metadata": {},
   "outputs": [],
   "source": [
    "def mouse_button_callback(button, action, mods):\n",
    "    print(button, action)\n",
    "\n",
    "def mouse_drag_callback(from_x, to_x, from_y, to_y, button):\n",
    "    print(from_x)\n",
    "\n",
    "viewer.user_mouse_button_callback = mouse_button_callback\n",
    "viewer.user_mouse_drag_callback = mouse_drag_callback"
   ]
  }
 ],
 "metadata": {
  "kernelspec": {
   "display_name": "cg",
   "language": "python",
   "name": "python3"
  },
  "language_info": {
   "codemirror_mode": {
    "name": "ipython",
    "version": 3
   },
   "file_extension": ".py",
   "mimetype": "text/x-python",
   "name": "python",
   "nbconvert_exporter": "python",
   "pygments_lexer": "ipython3",
   "version": "3.8.10"
  },
  "orig_nbformat": 4,
  "vscode": {
   "interpreter": {
    "hash": "04da4f8fab91c1091c1cd452a8ff9beacbc75ac7b12bd6de56df753db8df35ae"
   }
  }
 },
 "nbformat": 4,
 "nbformat_minor": 2
}
