{
 "cells": [
  {
   "cell_type": "code",
   "execution_count": 1,
   "metadata": {},
   "outputs": [],
   "source": [
    "%load_ext autoreload\n",
    "%autoreload 2\n",
    "\n",
    "import numpy as np\n",
    "from umbra import MeshViewer\n",
    "import trimesh\n",
    "\n",
    "viewer = MeshViewer()\n",
    "\n",
    "v = np.array([[-1, 0, 0], [1, 0, 0], [0, 1, 0]], dtype=np.float32)\n",
    "f = np.array([[0, 1, 2]], dtype=np.int32)\n",
    "viewer.set_mesh(v, f)\n",
    "viewer.set_mesh(v+0.1, f)\n",
    "viewer.set_material(material='wireframe', index=1)\n",
    "\n",
    "p = 2*np.random.rand(20, 3)-1\n",
    "c = np.random.rand(20, 3)\n",
    "viewer.set_points(p, c=c, object_name=\"points\")"
   ]
  },
  {
   "cell_type": "code",
   "execution_count": 33,
   "metadata": {},
   "outputs": [],
   "source": [
    "s = 2*np.random.rand(20, 3)-1\n",
    "e = 2*np.random.rand(20, 3)-1\n",
    "c = np.random.rand(20, 3)\n",
    "viewer.set_lines(s, e, c=c, object_name=\"lines\")"
   ]
  }
 ],
 "metadata": {
  "kernelspec": {
   "display_name": "cg",
   "language": "python",
   "name": "python3"
  },
  "language_info": {
   "codemirror_mode": {
    "name": "ipython",
    "version": 3
   },
   "file_extension": ".py",
   "mimetype": "text/x-python",
   "name": "python",
   "nbconvert_exporter": "python",
   "pygments_lexer": "ipython3",
   "version": "3.8.12"
  },
  "orig_nbformat": 4
 },
 "nbformat": 4,
 "nbformat_minor": 2
}
