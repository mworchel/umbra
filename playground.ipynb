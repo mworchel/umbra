{
 "cells": [
  {
   "cell_type": "code",
   "execution_count": 3,
   "metadata": {},
   "outputs": [
    {
     "name": "stderr",
     "output_type": "stream",
     "text": [
      "Exception in thread Thread-7:\n",
      "Traceback (most recent call last):\n",
      "  File \"c:\\Users\\Markus\\miniconda3\\envs\\cg\\lib\\threading.py\", line 932, in _bootstrap_inner\n",
      "    self.run()\n",
      "  File \"c:\\Users\\Markus\\miniconda3\\envs\\cg\\lib\\threading.py\", line 870, in run\n",
      "    self._target(*self._args, **self._kwargs)\n",
      "  File \"g:\\Source\\CG\\umbra\\umbra\\viewer.py\", line 63, in run\n",
      "    while not glfw.window_should_close(self.window):\n",
      "NameError: name 'glfw' is not defined\n"
     ]
    },
    {
     "name": "stdout",
     "output_type": "stream",
     "text": [
      "The autoreload extension is already loaded. To reload it, use:\n",
      "  %reload_ext autoreload\n"
     ]
    }
   ],
   "source": [
    "%load_ext autoreload\n",
    "%autoreload 2\n",
    "\n",
    "import numpy as np\n",
    "from umbra import MeshViewer\n",
    "import trimesh\n",
    "\n",
    "viewer = MeshViewer()\n",
    "\n",
    "v = np.array([[-1, 0, 0], [1, 0, 0], [0, 1, 0]], dtype=np.float32)\n",
    "f = np.array([[0, 1, 2]], dtype=np.int32)\n",
    "viewer.set_mesh(v, f)\n",
    "viewer.set_mesh(v+0.1, f)\n",
    "viewer.set_material(material='wireframe', index=1)\n",
    "\n",
    "p = 2*np.random.rand(20, 3)-1\n",
    "c = np.random.rand(20, 3)\n",
    "viewer.set_points(p, c=c, object_name=\"points\")"
   ]
  },
  {
   "cell_type": "code",
   "execution_count": 4,
   "metadata": {},
   "outputs": [],
   "source": [
    "viewer.clear()\n",
    "s = 2*np.random.rand(16, 3)-1\n",
    "e = 2*np.random.rand(16, 3)-1\n",
    "c = np.random.rand(s.shape[0], 3)\n",
    "viewer.set_lines(s, e, c=c, object_name=\"lines\")\n",
    "viewer.set_points(s, c=c, object_name=\"lines_start\")\n",
    "viewer.set_points(e, c=c, object_name=\"lines_end\")"
   ]
  }
 ],
 "metadata": {
  "kernelspec": {
   "display_name": "cg",
   "language": "python",
   "name": "python3"
  },
  "language_info": {
   "codemirror_mode": {
    "name": "ipython",
    "version": 3
   },
   "file_extension": ".py",
   "mimetype": "text/x-python",
   "name": "python",
   "nbconvert_exporter": "python",
   "pygments_lexer": "ipython3",
   "version": "3.8.10"
  },
  "orig_nbformat": 4
 },
 "nbformat": 4,
 "nbformat_minor": 2
}
